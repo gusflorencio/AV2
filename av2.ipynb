{
 "cells": [
  {
   "cell_type": "markdown",
   "id": "97de019b",
   "metadata": {},
   "source": [
    "![Enunciado]({7105E901-E9A3-44B7-AEC5-8631F80E36E5}.png)"
   ]
  },
  {
   "cell_type": "code",
   "execution_count": null,
   "id": "292118b7",
   "metadata": {},
   "outputs": [
    {
     "name": "stdout",
     "output_type": "stream",
     "text": [
      "A bola foi solta\n",
      "A altura que a bola está após  2 segundos é  4980.4 metros.\n"
     ]
    }
   ],
   "source": [
    "#AV2 PROBLEMA 1 (BOLA)\n",
    "\n",
    "#A)\n",
    "g= 9.8\n",
    "h0= int(input(\"A que altura está a bola? \"))\n",
    "print(\"A bola foi solta\")\n",
    "tempo= int(input(\"Quantos segundos se passaram após soltar a bola? \"))\n",
    "\n",
    "H=h0 - (g * tempo **2)/2\n",
    "if H<0:\n",
    "    print(\"Após\",tempo ,\"segundos, a bola chegou no chão.\")\n",
    "else:\n",
    "    print(\"A altura que a bola está após \",tempo, \"segundos é \",H ,\"metros.\" )\n",
    "\n",
    "\n",
    " \n",
    "    "
   ]
  },
  {
   "cell_type": "markdown",
   "id": "0bb4a92d",
   "metadata": {},
   "source": [
    "![Fluxograma]({4DCBE93F-E81F-4556-9ABC-4A1DD7369BB3}.png)"
   ]
  },
  {
   "cell_type": "code",
   "execution_count": null,
   "id": "b1f90c12",
   "metadata": {},
   "outputs": [],
   "source": [
    "#B)\n",
    "h0= float(input(\"Insira a altura inicial da bola: \"))\n",
    "t0= int(input(\"Insira o intervalo de tempo desejado: \"))\n",
    "\n",
    "for i in t0:\n",
    "    H=h0 - (g * tempo **2)/2\n",
    "    print(\"Altura em\" ,)\n",
    "    \n",
    "\n"
   ]
  }
 ],
 "metadata": {
  "kernelspec": {
   "display_name": "base",
   "language": "python",
   "name": "python3"
  },
  "language_info": {
   "codemirror_mode": {
    "name": "ipython",
    "version": 3
   },
   "file_extension": ".py",
   "mimetype": "text/x-python",
   "name": "python",
   "nbconvert_exporter": "python",
   "pygments_lexer": "ipython3",
   "version": "3.12.7"
  }
 },
 "nbformat": 4,
 "nbformat_minor": 5
}
